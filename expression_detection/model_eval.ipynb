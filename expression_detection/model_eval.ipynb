{
  "nbformat": 4,
  "nbformat_minor": 0,
  "metadata": {
    "colab": {
      "provenance": [],
      "gpuType": "T4"
    },
    "kernelspec": {
      "name": "python3",
      "display_name": "Python 3"
    },
    "language_info": {
      "name": "python"
    },
    "accelerator": "GPU"
  },
  "cells": [
    {
      "cell_type": "code",
      "execution_count": 1,
      "metadata": {
        "id": "auN7y3ByLAJC"
      },
      "outputs": [],
      "source": [
        "import pandas as pd\n",
        "import numpy as np\n",
        "import matplotlib.pyplot as plt\n",
        "import cv2\n",
        "import os\n",
        "import warnings\n",
        "from PIL import Image\n",
        "from scipy import misc\n",
        "import yaml"
      ]
    },
    {
      "cell_type": "code",
      "source": [
        "from google.colab import drive\n",
        "drive.mount('/content/drive')"
      ],
      "metadata": {
        "colab": {
          "base_uri": "https://localhost:8080/"
        },
        "id": "O6xmW_coULmp",
        "outputId": "55be5dfd-92d6-4f87-f13d-52120ad28e35"
      },
      "execution_count": 4,
      "outputs": [
        {
          "output_type": "stream",
          "name": "stdout",
          "text": [
            "Mounted at /content/drive\n"
          ]
        }
      ]
    },
    {
      "cell_type": "code",
      "source": [
        "!pip install ultralytics\n",
        "from ultralytics import YOLO\n",
        "from IPython.display import display, Image"
      ],
      "metadata": {
        "id": "TkCnx-qIVKTj"
      },
      "execution_count": null,
      "outputs": []
    },
    {
      "cell_type": "code",
      "source": [
        "model = YOLO('/content/drive/My Drive/BME548_Final/original.pt')"
      ],
      "metadata": {
        "id": "O02mIoSWUaQT"
      },
      "execution_count": 5,
      "outputs": []
    },
    {
      "cell_type": "code",
      "source": [
        "import zipfile\n",
        "zip_file_path = '/content/drive/My Drive/BME548_Final/recognition_data.zip'\n",
        "extract_path = '/content/YOLO_data'\n",
        "os.makedirs(extract_path, exist_ok=True)\n",
        "with zipfile.ZipFile(zip_file_path, 'r') as zip_ref:\n",
        "    zip_ref.extractall(extract_path)"
      ],
      "metadata": {
        "id": "fP8kTHdBU72W"
      },
      "execution_count": 19,
      "outputs": []
    },
    {
      "cell_type": "code",
      "source": [
        "zip_file_path = '/content/drive/My Drive/BME548_Final/recognition_illu_rot.zip'\n",
        "extract_path = '/content/YOLO_data'\n",
        "os.makedirs(extract_path, exist_ok=True)\n",
        "with zipfile.ZipFile(zip_file_path, 'r') as zip_ref:\n",
        "    zip_ref.extractall(extract_path)"
      ],
      "metadata": {
        "id": "zqArdyOBWUN9"
      },
      "execution_count": 20,
      "outputs": []
    },
    {
      "cell_type": "code",
      "source": [
        "zip_file_path = '/content/drive/My Drive/BME548_Final/recognition_scale.zip'\n",
        "extract_path = '/content/YOLO_data'\n",
        "os.makedirs(extract_path, exist_ok=True)\n",
        "with zipfile.ZipFile(zip_file_path, 'r') as zip_ref:\n",
        "    zip_ref.extractall(extract_path)"
      ],
      "metadata": {
        "id": "MuR-iUyhWUZG"
      },
      "execution_count": 21,
      "outputs": []
    },
    {
      "cell_type": "code",
      "source": [
        "zip_file_path = '/content/drive/My Drive/BME548_Final/recognition_random_box.zip'\n",
        "extract_path = '/content/YOLO_data'\n",
        "os.makedirs(extract_path, exist_ok=True)\n",
        "with zipfile.ZipFile(zip_file_path, 'r') as zip_ref:\n",
        "    zip_ref.extractall(extract_path)"
      ],
      "metadata": {
        "id": "Akfl035EWeA3"
      },
      "execution_count": 22,
      "outputs": []
    },
    {
      "cell_type": "code",
      "source": [
        "# Define your data\n",
        "data = {\n",
        "    'train': '/content/YOLO_data/recognition_data/YOLO_format/train',\n",
        "    'val': '/content/YOLO_data/recognition_data/YOLO_format/val',\n",
        "    'test': '/content/YOLO_data/recognition_data/YOLO_format/test',\n",
        "    'nc': 8,\n",
        "    'names': [\n",
        "        \"Anger\",\n",
        "        \"Contempt\",\n",
        "        \"Disgust\",\n",
        "        \"Fear\",\n",
        "        \"Happy\",\n",
        "        \"Neutral\",\n",
        "        \"Sad\",\n",
        "        \"Surprise\",\n",
        "    ]}\n",
        "\n",
        "# Specify the file path\n",
        "file_path = '/content/YOLO_data/recognition_data/YOLO_format/yolo_config.yaml'\n",
        "\n",
        "# Write the data to a YAML file\n",
        "with open(file_path, 'w') as file:\n",
        "    yaml.dump(data, file)"
      ],
      "metadata": {
        "id": "5iZYa_RzWImS"
      },
      "execution_count": 10,
      "outputs": []
    },
    {
      "cell_type": "code",
      "source": [
        "os.listdir('/content/YOLO_data/')"
      ],
      "metadata": {
        "colab": {
          "base_uri": "https://localhost:8080/"
        },
        "id": "CRO5ICSUWstZ",
        "outputId": "36dbf4c5-f5a1-4a4f-c45e-7d83f1e863e5"
      },
      "execution_count": 13,
      "outputs": [
        {
          "output_type": "execute_result",
          "data": {
            "text/plain": [
              "['recognition_scale',\n",
              " 'recognition_random_box',\n",
              " 'recognition_illu_rot',\n",
              " 'recognition_data']"
            ]
          },
          "metadata": {},
          "execution_count": 13
        }
      ]
    },
    {
      "cell_type": "code",
      "source": [
        "results = model.val(data=file_path)"
      ],
      "metadata": {
        "id": "pE-EM70PZyW4"
      },
      "execution_count": null,
      "outputs": []
    },
    {
      "cell_type": "code",
      "source": [
        "import shutil\n",
        "\n",
        "folder_to_download = 'runs/classify/val'\n",
        "\n",
        "# Compress the folder into a zip file\n",
        "shutil.make_archive('runs/classify/val', 'zip', folder_to_download)\n",
        "\n",
        "# Get the path to the zip file\n",
        "zip_file_path = folder_to_download + '.zip'\n",
        "\n",
        "# Download the zip file\n",
        "from google.colab import files\n",
        "files.download(zip_file_path)"
      ],
      "metadata": {
        "colab": {
          "base_uri": "https://localhost:8080/",
          "height": 17
        },
        "id": "z_cQpuYLbRav",
        "outputId": "0d712d30-9d68-4b89-cb79-54d3da99a52a"
      },
      "execution_count": 12,
      "outputs": [
        {
          "output_type": "display_data",
          "data": {
            "text/plain": [
              "<IPython.core.display.Javascript object>"
            ],
            "application/javascript": [
              "\n",
              "    async function download(id, filename, size) {\n",
              "      if (!google.colab.kernel.accessAllowed) {\n",
              "        return;\n",
              "      }\n",
              "      const div = document.createElement('div');\n",
              "      const label = document.createElement('label');\n",
              "      label.textContent = `Downloading \"${filename}\": `;\n",
              "      div.appendChild(label);\n",
              "      const progress = document.createElement('progress');\n",
              "      progress.max = size;\n",
              "      div.appendChild(progress);\n",
              "      document.body.appendChild(div);\n",
              "\n",
              "      const buffers = [];\n",
              "      let downloaded = 0;\n",
              "\n",
              "      const channel = await google.colab.kernel.comms.open(id);\n",
              "      // Send a message to notify the kernel that we're ready.\n",
              "      channel.send({})\n",
              "\n",
              "      for await (const message of channel.messages) {\n",
              "        // Send a message to notify the kernel that we're ready.\n",
              "        channel.send({})\n",
              "        if (message.buffers) {\n",
              "          for (const buffer of message.buffers) {\n",
              "            buffers.push(buffer);\n",
              "            downloaded += buffer.byteLength;\n",
              "            progress.value = downloaded;\n",
              "          }\n",
              "        }\n",
              "      }\n",
              "      const blob = new Blob(buffers, {type: 'application/binary'});\n",
              "      const a = document.createElement('a');\n",
              "      a.href = window.URL.createObjectURL(blob);\n",
              "      a.download = filename;\n",
              "      div.appendChild(a);\n",
              "      a.click();\n",
              "      div.remove();\n",
              "    }\n",
              "  "
            ]
          },
          "metadata": {}
        },
        {
          "output_type": "display_data",
          "data": {
            "text/plain": [
              "<IPython.core.display.Javascript object>"
            ],
            "application/javascript": [
              "download(\"download_a1aeb262-163c-49ca-8521-3d73eba85ca4\", \"val.zip\", 2390845)"
            ]
          },
          "metadata": {}
        }
      ]
    },
    {
      "cell_type": "code",
      "source": [
        "# Define your data\n",
        "data = {\n",
        "    'train': '/content/YOLO_data/recognition_scale/YOLO_format/train',\n",
        "    'val': '/content/YOLO_data/recognition_scale/YOLO_format/val',\n",
        "    'test': '/content/YOLO_data/recognition_scale/YOLO_format/test',\n",
        "    'nc': 8,\n",
        "    'names': [\n",
        "        \"Anger\",\n",
        "        \"Contempt\",\n",
        "        \"Disgust\",\n",
        "        \"Fear\",\n",
        "        \"Happy\",\n",
        "        \"Neutral\",\n",
        "        \"Sad\",\n",
        "        \"Surprise\",\n",
        "    ]}\n",
        "\n",
        "# Specify the file path\n",
        "file_path = '/content/YOLO_data/recognition_scale/YOLO_format/yolo_config.yaml'\n",
        "\n",
        "# Write the data to a YAML file\n",
        "with open(file_path, 'w') as file:\n",
        "    yaml.dump(data, file)\n",
        "\n",
        "results = model.val(data=file_path)\n"
      ],
      "metadata": {
        "colab": {
          "base_uri": "https://localhost:8080/"
        },
        "id": "KQlgVeI9aM43",
        "outputId": "9dbb7288-3608-4c19-8503-b32ff5988df9"
      },
      "execution_count": 14,
      "outputs": [
        {
          "output_type": "stream",
          "name": "stdout",
          "text": [
            "Ultralytics YOLOv8.2.6 🚀 Python-3.10.12 torch-2.2.1+cu121 CUDA:0 (Tesla T4, 15102MiB)\n"
          ]
        },
        {
          "output_type": "stream",
          "name": "stderr",
          "text": [
            "\u001b[34m\u001b[1mval: \u001b[0mScanning /content/YOLO_data/recognition_scale/YOLO_format/valid... 5406 images, 0 corrupt: 100%|██████████| 5406/5406 [00:01<00:00, 4936.07it/s]\n"
          ]
        },
        {
          "output_type": "stream",
          "name": "stdout",
          "text": [
            "\u001b[34m\u001b[1mval: \u001b[0mNew cache created: /content/YOLO_data/recognition_scale/YOLO_format/valid.cache\n"
          ]
        },
        {
          "output_type": "stream",
          "name": "stderr",
          "text": [
            "/usr/lib/python3.10/multiprocessing/popen_fork.py:66: RuntimeWarning: os.fork() was called. os.fork() is incompatible with multithreaded code, and JAX is multithreaded, so this will likely lead to a deadlock.\n",
            "  self.pid = os.fork()\n",
            "               classes   top1_acc   top5_acc: 100%|██████████| 338/338 [01:18<00:00,  4.30it/s]\n"
          ]
        },
        {
          "output_type": "stream",
          "name": "stdout",
          "text": [
            "                   all      0.237       0.74\n",
            "Speed: 0.6ms preprocess, 2.3ms inference, 0.0ms loss, 0.0ms postprocess per image\n",
            "Results saved to \u001b[1mruns/classify/val2\u001b[0m\n"
          ]
        },
        {
          "output_type": "stream",
          "name": "stderr",
          "text": [
            "/usr/lib/python3.10/multiprocessing/popen_fork.py:66: RuntimeWarning: os.fork() was called. os.fork() is incompatible with multithreaded code, and JAX is multithreaded, so this will likely lead to a deadlock.\n",
            "  self.pid = os.fork()\n"
          ]
        }
      ]
    },
    {
      "cell_type": "code",
      "source": [
        "folder_to_download = 'runs/classify/val2'\n",
        "\n",
        "# Compress the folder into a zip file\n",
        "shutil.make_archive('runs/classify/val2', 'zip', folder_to_download)\n",
        "\n",
        "# Get the path to the zip file\n",
        "zip_file_path = folder_to_download + '.zip'\n",
        "\n",
        "# Download the zip file\n",
        "from google.colab import files\n",
        "files.download(zip_file_path)"
      ],
      "metadata": {
        "colab": {
          "base_uri": "https://localhost:8080/",
          "height": 17
        },
        "id": "4lzWV9Fkci8s",
        "outputId": "d0e31ec1-fd63-4269-f9c1-a540fcd8d4e8"
      },
      "execution_count": 15,
      "outputs": [
        {
          "output_type": "display_data",
          "data": {
            "text/plain": [
              "<IPython.core.display.Javascript object>"
            ],
            "application/javascript": [
              "\n",
              "    async function download(id, filename, size) {\n",
              "      if (!google.colab.kernel.accessAllowed) {\n",
              "        return;\n",
              "      }\n",
              "      const div = document.createElement('div');\n",
              "      const label = document.createElement('label');\n",
              "      label.textContent = `Downloading \"${filename}\": `;\n",
              "      div.appendChild(label);\n",
              "      const progress = document.createElement('progress');\n",
              "      progress.max = size;\n",
              "      div.appendChild(progress);\n",
              "      document.body.appendChild(div);\n",
              "\n",
              "      const buffers = [];\n",
              "      let downloaded = 0;\n",
              "\n",
              "      const channel = await google.colab.kernel.comms.open(id);\n",
              "      // Send a message to notify the kernel that we're ready.\n",
              "      channel.send({})\n",
              "\n",
              "      for await (const message of channel.messages) {\n",
              "        // Send a message to notify the kernel that we're ready.\n",
              "        channel.send({})\n",
              "        if (message.buffers) {\n",
              "          for (const buffer of message.buffers) {\n",
              "            buffers.push(buffer);\n",
              "            downloaded += buffer.byteLength;\n",
              "            progress.value = downloaded;\n",
              "          }\n",
              "        }\n",
              "      }\n",
              "      const blob = new Blob(buffers, {type: 'application/binary'});\n",
              "      const a = document.createElement('a');\n",
              "      a.href = window.URL.createObjectURL(blob);\n",
              "      a.download = filename;\n",
              "      div.appendChild(a);\n",
              "      a.click();\n",
              "      div.remove();\n",
              "    }\n",
              "  "
            ]
          },
          "metadata": {}
        },
        {
          "output_type": "display_data",
          "data": {
            "text/plain": [
              "<IPython.core.display.Javascript object>"
            ],
            "application/javascript": [
              "download(\"download_3af6e99e-6849-47b8-b5b7-7db1b54c3ce1\", \"val2.zip\", 1736071)"
            ]
          },
          "metadata": {}
        }
      ]
    },
    {
      "cell_type": "code",
      "source": [
        "data = {\n",
        "    'train': '/content/YOLO_data/recognition_illu_rot/YOLO_format/train',\n",
        "    'val': '/content/YOLO_data/recognition_illu_rot/YOLO_format/val',\n",
        "    'test': '/content/YOLO_data/recognition_illu_rot/YOLO_format/test',\n",
        "    'nc': 8,\n",
        "    'names': [\n",
        "        \"Anger\",\n",
        "        \"Contempt\",\n",
        "        \"Disgust\",\n",
        "        \"Fear\",\n",
        "        \"Happy\",\n",
        "        \"Neutral\",\n",
        "        \"Sad\",\n",
        "        \"Surprise\",\n",
        "    ]}\n",
        "\n",
        "# Specify the file path\n",
        "file_path = '/content/YOLO_data/recognition_illu_rot/YOLO_format/yolo_config.yaml'\n",
        "\n",
        "# Write the data to a YAML file\n",
        "with open(file_path, 'w') as file:\n",
        "    yaml.dump(data, file)\n",
        "\n",
        "results = model.val(data=file_path)\n"
      ],
      "metadata": {
        "colab": {
          "base_uri": "https://localhost:8080/"
        },
        "id": "gbHxeS2NgKWt",
        "outputId": "afd755e6-89f9-4088-ad58-cc141dfa26b4"
      },
      "execution_count": 23,
      "outputs": [
        {
          "output_type": "stream",
          "name": "stdout",
          "text": [
            "Ultralytics YOLOv8.2.6 🚀 Python-3.10.12 torch-2.2.1+cu121 CUDA:0 (Tesla T4, 15102MiB)\n",
            "YOLOv8n-cls summary (fused): 73 layers, 1445128 parameters, 10248 gradients, 3.3 GFLOPs\n"
          ]
        },
        {
          "output_type": "stream",
          "name": "stderr",
          "text": [
            "\u001b[34m\u001b[1mval: \u001b[0mScanning /content/YOLO_data/recognition_illu_rot/YOLO_format/val... 5406 images, 0 corrupt: 100%|██████████| 5406/5406 [00:01<00:00, 5020.13it/s]"
          ]
        },
        {
          "output_type": "stream",
          "name": "stdout",
          "text": [
            "\u001b[34m\u001b[1mval: \u001b[0mNew cache created: /content/YOLO_data/recognition_illu_rot/YOLO_format/val.cache\n"
          ]
        },
        {
          "output_type": "stream",
          "name": "stderr",
          "text": [
            "\n",
            "/usr/lib/python3.10/multiprocessing/popen_fork.py:66: RuntimeWarning: os.fork() was called. os.fork() is incompatible with multithreaded code, and JAX is multithreaded, so this will likely lead to a deadlock.\n",
            "  self.pid = os.fork()\n",
            "               classes   top1_acc   top5_acc: 100%|██████████| 338/338 [01:42<00:00,  3.29it/s]\n"
          ]
        },
        {
          "output_type": "stream",
          "name": "stdout",
          "text": [
            "                   all      0.163      0.657\n",
            "Speed: 0.6ms preprocess, 2.6ms inference, 0.0ms loss, 0.0ms postprocess per image\n",
            "Results saved to \u001b[1mruns/classify/val3\u001b[0m\n"
          ]
        }
      ]
    },
    {
      "cell_type": "code",
      "source": [
        "folder_to_download = 'runs/classify/val3'\n",
        "\n",
        "# Compress the folder into a zip file\n",
        "shutil.make_archive('runs/classify/val3', 'zip', folder_to_download)\n",
        "\n",
        "# Get the path to the zip file\n",
        "zip_file_path = folder_to_download + '.zip'\n",
        "\n",
        "# Download the zip file\n",
        "from google.colab import files\n",
        "files.download(zip_file_path)"
      ],
      "metadata": {
        "colab": {
          "base_uri": "https://localhost:8080/",
          "height": 17
        },
        "id": "2Llfrr3rga1r",
        "outputId": "3479c404-6d1a-4a49-e770-cc170827f10b"
      },
      "execution_count": 24,
      "outputs": [
        {
          "output_type": "display_data",
          "data": {
            "text/plain": [
              "<IPython.core.display.Javascript object>"
            ],
            "application/javascript": [
              "\n",
              "    async function download(id, filename, size) {\n",
              "      if (!google.colab.kernel.accessAllowed) {\n",
              "        return;\n",
              "      }\n",
              "      const div = document.createElement('div');\n",
              "      const label = document.createElement('label');\n",
              "      label.textContent = `Downloading \"${filename}\": `;\n",
              "      div.appendChild(label);\n",
              "      const progress = document.createElement('progress');\n",
              "      progress.max = size;\n",
              "      div.appendChild(progress);\n",
              "      document.body.appendChild(div);\n",
              "\n",
              "      const buffers = [];\n",
              "      let downloaded = 0;\n",
              "\n",
              "      const channel = await google.colab.kernel.comms.open(id);\n",
              "      // Send a message to notify the kernel that we're ready.\n",
              "      channel.send({})\n",
              "\n",
              "      for await (const message of channel.messages) {\n",
              "        // Send a message to notify the kernel that we're ready.\n",
              "        channel.send({})\n",
              "        if (message.buffers) {\n",
              "          for (const buffer of message.buffers) {\n",
              "            buffers.push(buffer);\n",
              "            downloaded += buffer.byteLength;\n",
              "            progress.value = downloaded;\n",
              "          }\n",
              "        }\n",
              "      }\n",
              "      const blob = new Blob(buffers, {type: 'application/binary'});\n",
              "      const a = document.createElement('a');\n",
              "      a.href = window.URL.createObjectURL(blob);\n",
              "      a.download = filename;\n",
              "      div.appendChild(a);\n",
              "      a.click();\n",
              "      div.remove();\n",
              "    }\n",
              "  "
            ]
          },
          "metadata": {}
        },
        {
          "output_type": "display_data",
          "data": {
            "text/plain": [
              "<IPython.core.display.Javascript object>"
            ],
            "application/javascript": [
              "download(\"download_1116adbc-0a4f-4fce-bcf4-69115c8547a4\", \"val3.zip\", 2342668)"
            ]
          },
          "metadata": {}
        }
      ]
    },
    {
      "cell_type": "code",
      "source": [
        "data = {\n",
        "    'train': '/content/YOLO_data/recognition_random_box/YOLO_format/train',\n",
        "    'val': '/content/YOLO_data/recognition_random_box/YOLO_format/val',\n",
        "    'test': '/content/YOLO_data/recognition_random_box/YOLO_format/test',\n",
        "    'nc': 8,\n",
        "    'names': [\n",
        "        \"Anger\",\n",
        "        \"Contempt\",\n",
        "        \"Disgust\",\n",
        "        \"Fear\",\n",
        "        \"Happy\",\n",
        "        \"Neutral\",\n",
        "        \"Sad\",\n",
        "        \"Surprise\",\n",
        "    ]}\n",
        "\n",
        "# Specify the file path\n",
        "file_path = '/content/YOLO_data/recognition_random_box/YOLO_format/yolo_config.yaml'\n",
        "\n",
        "# Write the data to a YAML file\n",
        "with open(file_path, 'w') as file:\n",
        "    yaml.dump(data, file)\n",
        "\n",
        "results = model.val(data=file_path)\n"
      ],
      "metadata": {
        "colab": {
          "base_uri": "https://localhost:8080/"
        },
        "id": "xWTcdNUxhZzb",
        "outputId": "f22bba9c-dd2e-4e0d-f6ab-74ba93e94a0c"
      },
      "execution_count": 25,
      "outputs": [
        {
          "output_type": "stream",
          "name": "stdout",
          "text": [
            "Ultralytics YOLOv8.2.6 🚀 Python-3.10.12 torch-2.2.1+cu121 CUDA:0 (Tesla T4, 15102MiB)\n"
          ]
        },
        {
          "output_type": "stream",
          "name": "stderr",
          "text": [
            "\u001b[34m\u001b[1mval: \u001b[0mScanning /content/YOLO_data/recognition_random_box/YOLO_format/val... 5406 images, 0 corrupt: 100%|██████████| 5406/5406 [00:01<00:00, 4942.48it/s]\n"
          ]
        },
        {
          "output_type": "stream",
          "name": "stdout",
          "text": [
            "\u001b[34m\u001b[1mval: \u001b[0mNew cache created: /content/YOLO_data/recognition_random_box/YOLO_format/val.cache\n"
          ]
        },
        {
          "output_type": "stream",
          "name": "stderr",
          "text": [
            "/usr/lib/python3.10/multiprocessing/popen_fork.py:66: RuntimeWarning: os.fork() was called. os.fork() is incompatible with multithreaded code, and JAX is multithreaded, so this will likely lead to a deadlock.\n",
            "  self.pid = os.fork()\n",
            "               classes   top1_acc   top5_acc: 100%|██████████| 338/338 [01:28<00:00,  3.80it/s]\n"
          ]
        },
        {
          "output_type": "stream",
          "name": "stdout",
          "text": [
            "                   all      0.378      0.887\n",
            "Speed: 0.6ms preprocess, 2.4ms inference, 0.0ms loss, 0.0ms postprocess per image\n",
            "Results saved to \u001b[1mruns/classify/val4\u001b[0m\n"
          ]
        }
      ]
    },
    {
      "cell_type": "code",
      "source": [
        "folder_to_download = 'runs/classify/val4'\n",
        "\n",
        "# Compress the folder into a zip file\n",
        "shutil.make_archive('runs/classify/val4', 'zip', folder_to_download)\n",
        "\n",
        "# Get the path to the zip file\n",
        "zip_file_path = folder_to_download + '.zip'\n",
        "\n",
        "# Download the zip file\n",
        "from google.colab import files\n",
        "files.download(zip_file_path)"
      ],
      "metadata": {
        "colab": {
          "base_uri": "https://localhost:8080/",
          "height": 17
        },
        "id": "5oUkIlmohj6-",
        "outputId": "c33db387-8057-4a52-dd38-27e8f713b804"
      },
      "execution_count": 26,
      "outputs": [
        {
          "output_type": "display_data",
          "data": {
            "text/plain": [
              "<IPython.core.display.Javascript object>"
            ],
            "application/javascript": [
              "\n",
              "    async function download(id, filename, size) {\n",
              "      if (!google.colab.kernel.accessAllowed) {\n",
              "        return;\n",
              "      }\n",
              "      const div = document.createElement('div');\n",
              "      const label = document.createElement('label');\n",
              "      label.textContent = `Downloading \"${filename}\": `;\n",
              "      div.appendChild(label);\n",
              "      const progress = document.createElement('progress');\n",
              "      progress.max = size;\n",
              "      div.appendChild(progress);\n",
              "      document.body.appendChild(div);\n",
              "\n",
              "      const buffers = [];\n",
              "      let downloaded = 0;\n",
              "\n",
              "      const channel = await google.colab.kernel.comms.open(id);\n",
              "      // Send a message to notify the kernel that we're ready.\n",
              "      channel.send({})\n",
              "\n",
              "      for await (const message of channel.messages) {\n",
              "        // Send a message to notify the kernel that we're ready.\n",
              "        channel.send({})\n",
              "        if (message.buffers) {\n",
              "          for (const buffer of message.buffers) {\n",
              "            buffers.push(buffer);\n",
              "            downloaded += buffer.byteLength;\n",
              "            progress.value = downloaded;\n",
              "          }\n",
              "        }\n",
              "      }\n",
              "      const blob = new Blob(buffers, {type: 'application/binary'});\n",
              "      const a = document.createElement('a');\n",
              "      a.href = window.URL.createObjectURL(blob);\n",
              "      a.download = filename;\n",
              "      div.appendChild(a);\n",
              "      a.click();\n",
              "      div.remove();\n",
              "    }\n",
              "  "
            ]
          },
          "metadata": {}
        },
        {
          "output_type": "display_data",
          "data": {
            "text/plain": [
              "<IPython.core.display.Javascript object>"
            ],
            "application/javascript": [
              "download(\"download_ebdd9c30-9c93-4be9-9de8-b32ec93e79a4\", \"val4.zip\", 2331201)"
            ]
          },
          "metadata": {}
        }
      ]
    },
    {
      "cell_type": "code",
      "source": [
        "result = model.predict('/content/YOLO_data/recognition_data/YOLO_format/test/Disgust')"
      ],
      "metadata": {
        "id": "Rc_J2TMxiyLI"
      },
      "execution_count": null,
      "outputs": []
    }
  ]
}